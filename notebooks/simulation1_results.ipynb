{
 "cells": [
  {
   "cell_type": "code",
   "execution_count": null,
   "metadata": {},
   "outputs": [],
   "source": [
    "import json\n",
    "import os\n",
    "from pathlib import Path\n",
    "\n",
    "import plotly.graph_objects as go\n",
    "import numpy as np"
   ]
  },
  {
   "cell_type": "code",
   "execution_count": null,
   "metadata": {},
   "outputs": [],
   "source": [
    "os.chdir(\"..\")"
   ]
  },
  {
   "cell_type": "code",
   "execution_count": null,
   "metadata": {},
   "outputs": [],
   "source": [
    "with open(Path(\"results\", \"simulation1.json\"), \"r\") as file:\n",
    "    results = json.load(file)"
   ]
  },
  {
   "cell_type": "code",
   "execution_count": null,
   "metadata": {},
   "outputs": [],
   "source": [
    "means_travel_times = np.zeros((6, 6))\n",
    "\n",
    "for conditions, result in results.items():\n",
    "    i, j = (int(idx) // 10 - 1 for idx in conditions.split(\"_\"))\n",
    "\n",
    "    means_travel_times[i, j] = np.array(result).mean()"
   ]
  },
  {
   "cell_type": "code",
   "execution_count": null,
   "metadata": {},
   "outputs": [],
   "source": [
    "means_travel_times"
   ]
  },
  {
   "cell_type": "code",
   "execution_count": null,
   "metadata": {},
   "outputs": [],
   "source": [
    "min_idx = np.unravel_index(np.argmin(means_travel_times, axis=None), means_travel_times.shape)\n",
    "min_idx"
   ]
  },
  {
   "cell_type": "code",
   "execution_count": null,
   "metadata": {},
   "outputs": [],
   "source": [
    "fig = go.Figure(\n",
    "    data=go.Heatmap(x=np.arange(10, 60, 10), y=np.arange(10, 60, 10), z=np.log(means_travel_times))\n",
    ")\n",
    "\n",
    "fig.add_scatter(x=[30], y=[60], marker_color=\"yellow\", marker_size=12)\n",
    "\n",
    "fig.update_layout(yaxis_title=\"'Busy' street\", xaxis_title=\"'Calm' street\", width=800, height=600)\n",
    "\n",
    "fig.show()\n",
    "\n",
    "fig.write_image(\"img/simulation_heatmap.png\")\n"
   ]
  }
 ],
 "metadata": {
  "kernelspec": {
   "display_name": "traffic-flow-2HfLMLuA-py3.11",
   "language": "python",
   "name": "python3"
  },
  "language_info": {
   "codemirror_mode": {
    "name": "ipython",
    "version": 3
   },
   "file_extension": ".py",
   "mimetype": "text/x-python",
   "name": "python",
   "nbconvert_exporter": "python",
   "pygments_lexer": "ipython3",
   "version": "3.11.6"
  }
 },
 "nbformat": 4,
 "nbformat_minor": 2
}
